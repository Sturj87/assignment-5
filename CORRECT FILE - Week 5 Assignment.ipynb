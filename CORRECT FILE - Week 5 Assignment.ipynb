{
 "cells": [
  {
   "cell_type": "code",
   "execution_count": 1,
   "id": "d513d2b1",
   "metadata": {},
   "outputs": [],
   "source": [
    "# Your task in this week’s assignment is to answer three questions:\n",
    "# 1. What is the northernmost airport in the United States?\n",
    "# 2. What is the easternmost airport in the United States?\n",
    "# 3. On February 12th, 2013, which New York area airport had the windiest weather?\n",
    "\n",
    "# Being successful on this assignment requires using both:\n",
    "# • Your developing skills in Python and pandas, and\n",
    "# • Your research skills in validating your candidate answers in context.\n",
    "\n",
    "# Tasks\n",
    "# 1. Use the information in the .CSV files found at\n",
    "# https://github.com/hadley/nycflights13/tree/master/data-raw for your source data.\n",
    "# 2. Write your code using Python and pandas, and deliver it in a Jupyter notebook. You should post\n",
    "# your notebook in a GitHub repository, and send me a link to the notebook.\n",
    "# 3. For each of the three questions listed above, you’ll need to verify your answers (in two cases by\n",
    "# searching for additional confirming information, and in the third case being alert for possible\n",
    "# outliers). For the first two questions above, you may want to start by generating a list of the five\n",
    "# northernmost or easternmost U.S. airports.\n",
    "# 4. In addition to providing code, you should state your answers to each of the above questions (in\n",
    "# Markdown) in the Jupyter notebook.\n",
    "# 5. To receive full credit, you’ll need to include in your Jupyter notebook both your code and your\n",
    "# documented assumptions and any changes that you made to the data based on your research\n",
    "# (using Markdown) in your Jupyter notebook.\n",
    "\n",
    "# Saar Turjeman\n",
    "# IS362 - assignment# 5\n",
    "# SPRING2024"
   ]
  },
  {
   "cell_type": "code",
   "execution_count": 2,
   "id": "0c21e617",
   "metadata": {},
   "outputs": [
    {
     "name": "stdout",
     "output_type": "stream",
     "text": [
      "Populating the interactive namespace from numpy and matplotlib\n"
     ]
    }
   ],
   "source": [
    "%pylab inline\n",
    "import pandas as pd\n",
    "from pandas import Series, DataFrame"
   ]
  },
  {
   "cell_type": "code",
   "execution_count": 3,
   "id": "b7f309e7",
   "metadata": {},
   "outputs": [],
   "source": [
    "# import the airlines DataFrame, downloaded from GitHub\n",
    "airlines = pd.read_csv('airlines.csv')\n",
    "\n",
    "# import the airports DataFrame, downloaded from GitHub\n",
    "airports = pd.read_csv('airports.csv')\n",
    "\n",
    "# import the planes DataFrame, downloaded from GitHub\n",
    "planes = pd.read_csv('planes.csv')\n",
    "\n",
    "# import the weather DataFrame, downloaded from GitHub\n",
    "weather = pd.read_csv('weather.csv')"
   ]
  },
  {
   "cell_type": "code",
   "execution_count": null,
   "id": "81938a58",
   "metadata": {},
   "outputs": [],
   "source": []
  },
  {
   "cell_type": "markdown",
   "id": "a6fa1e12",
   "metadata": {},
   "source": [
    "# case 1\n",
    "\n",
    "# Latitude is the primary determinant of northness or southness. The higher the latitude, the more north the location is"
   ]
  },
  {
   "cell_type": "code",
   "execution_count": 4,
   "id": "aa8a6781",
   "metadata": {},
   "outputs": [
    {
     "data": {
      "text/html": [
       "<div>\n",
       "<style scoped>\n",
       "    .dataframe tbody tr th:only-of-type {\n",
       "        vertical-align: middle;\n",
       "    }\n",
       "\n",
       "    .dataframe tbody tr th {\n",
       "        vertical-align: top;\n",
       "    }\n",
       "\n",
       "    .dataframe thead th {\n",
       "        text-align: right;\n",
       "    }\n",
       "</style>\n",
       "<table border=\"1\" class=\"dataframe\">\n",
       "  <thead>\n",
       "    <tr style=\"text-align: right;\">\n",
       "      <th></th>\n",
       "      <th>faa</th>\n",
       "      <th>name</th>\n",
       "      <th>lat</th>\n",
       "      <th>lon</th>\n",
       "      <th>alt</th>\n",
       "      <th>tz</th>\n",
       "      <th>dst</th>\n",
       "      <th>tzone</th>\n",
       "    </tr>\n",
       "  </thead>\n",
       "  <tbody>\n",
       "    <tr>\n",
       "      <th>417</th>\n",
       "      <td>EEN</td>\n",
       "      <td>Dillant Hopkins Airport</td>\n",
       "      <td>72.270833</td>\n",
       "      <td>42.898333</td>\n",
       "      <td>149</td>\n",
       "      <td>-5</td>\n",
       "      <td>A</td>\n",
       "      <td>NaN</td>\n",
       "    </tr>\n",
       "    <tr>\n",
       "      <th>230</th>\n",
       "      <td>BRW</td>\n",
       "      <td>Wiley Post Will Rogers Mem</td>\n",
       "      <td>71.285446</td>\n",
       "      <td>-156.766003</td>\n",
       "      <td>44</td>\n",
       "      <td>-9</td>\n",
       "      <td>A</td>\n",
       "      <td>America/Anchorage</td>\n",
       "    </tr>\n",
       "    <tr>\n",
       "      <th>110</th>\n",
       "      <td>AIN</td>\n",
       "      <td>Wainwright Airport</td>\n",
       "      <td>70.638056</td>\n",
       "      <td>-159.994722</td>\n",
       "      <td>41</td>\n",
       "      <td>-9</td>\n",
       "      <td>A</td>\n",
       "      <td>America/Anchorage</td>\n",
       "    </tr>\n",
       "    <tr>\n",
       "      <th>708</th>\n",
       "      <td>K03</td>\n",
       "      <td>Wainwright As</td>\n",
       "      <td>70.613378</td>\n",
       "      <td>-159.860350</td>\n",
       "      <td>35</td>\n",
       "      <td>-9</td>\n",
       "      <td>A</td>\n",
       "      <td>America/Anchorage</td>\n",
       "    </tr>\n",
       "    <tr>\n",
       "      <th>152</th>\n",
       "      <td>ATK</td>\n",
       "      <td>Atqasuk Edward Burnell Sr Memorial Airport</td>\n",
       "      <td>70.467300</td>\n",
       "      <td>-157.436000</td>\n",
       "      <td>96</td>\n",
       "      <td>-9</td>\n",
       "      <td>A</td>\n",
       "      <td>America/Anchorage</td>\n",
       "    </tr>\n",
       "  </tbody>\n",
       "</table>\n",
       "</div>"
      ],
      "text/plain": [
       "     faa                                        name        lat         lon  \\\n",
       "417  EEN                     Dillant Hopkins Airport  72.270833   42.898333   \n",
       "230  BRW                  Wiley Post Will Rogers Mem  71.285446 -156.766003   \n",
       "110  AIN                          Wainwright Airport  70.638056 -159.994722   \n",
       "708  K03                               Wainwright As  70.613378 -159.860350   \n",
       "152  ATK  Atqasuk Edward Burnell Sr Memorial Airport  70.467300 -157.436000   \n",
       "\n",
       "     alt  tz dst              tzone  \n",
       "417  149  -5   A                NaN  \n",
       "230   44  -9   A  America/Anchorage  \n",
       "110   41  -9   A  America/Anchorage  \n",
       "708   35  -9   A  America/Anchorage  \n",
       "152   96  -9   A  America/Anchorage  "
      ]
     },
     "execution_count": 4,
     "metadata": {},
     "output_type": "execute_result"
    }
   ],
   "source": [
    "# 1. What is the northernmost airport in the United States?\n",
    "\n",
    "\n",
    "# displays the airports DataFrame, and sorting the values in lat in descending order\n",
    "# and shows the top 5 values using the .head() method\n",
    "airports.sort_values('lat', ascending=False).head()"
   ]
  },
  {
   "cell_type": "markdown",
   "id": "a897bbe5",
   "metadata": {},
   "source": [
    "# case 2\n",
    "\n",
    "# Checking based on Longitude \n",
    "\n",
    "# Longitude (lon): Longitude primarily indicates the east-west position of a location and does not directly relate to its northness. However, if latitude were the same between two locations, the one with the less negative longitude (or more positive) would be further east and therefore considered more north in relation to the same latitude."
   ]
  },
  {
   "cell_type": "code",
   "execution_count": 5,
   "id": "b8598a38",
   "metadata": {},
   "outputs": [
    {
     "data": {
      "text/html": [
       "<div>\n",
       "<style scoped>\n",
       "    .dataframe tbody tr th:only-of-type {\n",
       "        vertical-align: middle;\n",
       "    }\n",
       "\n",
       "    .dataframe tbody tr th {\n",
       "        vertical-align: top;\n",
       "    }\n",
       "\n",
       "    .dataframe thead th {\n",
       "        text-align: right;\n",
       "    }\n",
       "</style>\n",
       "<table border=\"1\" class=\"dataframe\">\n",
       "  <thead>\n",
       "    <tr style=\"text-align: right;\">\n",
       "      <th></th>\n",
       "      <th>faa</th>\n",
       "      <th>name</th>\n",
       "      <th>lat</th>\n",
       "      <th>lon</th>\n",
       "      <th>alt</th>\n",
       "      <th>tz</th>\n",
       "      <th>dst</th>\n",
       "      <th>tzone</th>\n",
       "    </tr>\n",
       "  </thead>\n",
       "  <tbody>\n",
       "    <tr>\n",
       "      <th>1290</th>\n",
       "      <td>SYA</td>\n",
       "      <td>Eareckson As</td>\n",
       "      <td>52.712275</td>\n",
       "      <td>174.113620</td>\n",
       "      <td>98</td>\n",
       "      <td>-9</td>\n",
       "      <td>A</td>\n",
       "      <td>America/Anchorage</td>\n",
       "    </tr>\n",
       "    <tr>\n",
       "      <th>942</th>\n",
       "      <td>MYF</td>\n",
       "      <td>Montgomery Field</td>\n",
       "      <td>32.475900</td>\n",
       "      <td>117.759000</td>\n",
       "      <td>17</td>\n",
       "      <td>8</td>\n",
       "      <td>A</td>\n",
       "      <td>Asia/Chongqing</td>\n",
       "    </tr>\n",
       "    <tr>\n",
       "      <th>396</th>\n",
       "      <td>DVT</td>\n",
       "      <td>Deer Valley Municipal Airport</td>\n",
       "      <td>33.411700</td>\n",
       "      <td>112.457000</td>\n",
       "      <td>1478</td>\n",
       "      <td>8</td>\n",
       "      <td>A</td>\n",
       "      <td>Asia/Chongqing</td>\n",
       "    </tr>\n",
       "    <tr>\n",
       "      <th>417</th>\n",
       "      <td>EEN</td>\n",
       "      <td>Dillant Hopkins Airport</td>\n",
       "      <td>72.270833</td>\n",
       "      <td>42.898333</td>\n",
       "      <td>149</td>\n",
       "      <td>-5</td>\n",
       "      <td>A</td>\n",
       "      <td>NaN</td>\n",
       "    </tr>\n",
       "    <tr>\n",
       "      <th>444</th>\n",
       "      <td>EPM</td>\n",
       "      <td>Eastport Municipal Airport</td>\n",
       "      <td>44.910111</td>\n",
       "      <td>-67.012694</td>\n",
       "      <td>45</td>\n",
       "      <td>-5</td>\n",
       "      <td>A</td>\n",
       "      <td>America/New_York</td>\n",
       "    </tr>\n",
       "  </tbody>\n",
       "</table>\n",
       "</div>"
      ],
      "text/plain": [
       "      faa                           name        lat         lon   alt  tz dst  \\\n",
       "1290  SYA                   Eareckson As  52.712275  174.113620    98  -9   A   \n",
       "942   MYF               Montgomery Field  32.475900  117.759000    17   8   A   \n",
       "396   DVT  Deer Valley Municipal Airport  33.411700  112.457000  1478   8   A   \n",
       "417   EEN        Dillant Hopkins Airport  72.270833   42.898333   149  -5   A   \n",
       "444   EPM     Eastport Municipal Airport  44.910111  -67.012694    45  -5   A   \n",
       "\n",
       "                  tzone  \n",
       "1290  America/Anchorage  \n",
       "942      Asia/Chongqing  \n",
       "396      Asia/Chongqing  \n",
       "417                 NaN  \n",
       "444    America/New_York  "
      ]
     },
     "execution_count": 5,
     "metadata": {},
     "output_type": "execute_result"
    }
   ],
   "source": [
    "airports.sort_values('lon', ascending=False).head()"
   ]
  },
  {
   "cell_type": "markdown",
   "id": "f9a45240",
   "metadata": {},
   "source": [
    "# case 3 - outlier\n"
   ]
  },
  {
   "cell_type": "code",
   "execution_count": 34,
   "id": "1f4b1d90",
   "metadata": {},
   "outputs": [
    {
     "data": {
      "text/plain": [
       "16      54.013333\n",
       "34      60.866667\n",
       "65      63.329444\n",
       "86      67.106389\n",
       "97      57.749967\n",
       "          ...    \n",
       "1416    60.335278\n",
       "1418    56.116389\n",
       "1419    60.939167\n",
       "1434    59.301200\n",
       "1440    64.301203\n",
       "Name: lat, Length: 242, dtype: float64"
      ]
     },
     "execution_count": 34,
     "metadata": {},
     "output_type": "execute_result"
    }
   ],
   "source": [
    "# Select latitudes where the latitude value is greater than or equal to the mean plus one standard deviation\n",
    "airports['lat'][airports['lat'] >= airports['lat'].mean() + airports['lat'].std()]\n"
   ]
  },
  {
   "cell_type": "code",
   "execution_count": null,
   "id": "1a3d3241",
   "metadata": {},
   "outputs": [],
   "source": [
    "# the answer for question # 1 - BRW\n",
    "# 1. What is the northernmost airport in the United States?\n",
    "sorted_airports = airports.sort_values('lat', ascending=False)\n",
    "northernmost_airport = sorted_airports.iloc[1:2]\n",
    "northernmost_airport"
   ]
  },
  {
   "cell_type": "code",
   "execution_count": null,
   "id": "311be12b",
   "metadata": {},
   "outputs": [],
   "source": [
    "# 2. What is the easternmost airport in the United States?\n",
    "\n",
    "# Easternmost Airport:\n",
    "# The higher the longitude the more east the airport is located.\n",
    "\n",
    "# Sorting the values in the lon table showing the first five airports with the highest longitude\n"
   ]
  },
  {
   "cell_type": "markdown",
   "id": "da182495",
   "metadata": {},
   "source": [
    "# case 1\n",
    "### For the lon 174.113620: Despite being a positive longitude, it represents a location more westward, likely in the western hemisphere.\n",
    "### For -67.0129694: Being a negative longitude, it signifies a location west of the Prime Meridian, making it more eastward compared to the positive longitude value provided. Therefore, -67.0129694 (likely in Maine) is more easternmost compared to 174.113620.\n"
   ]
  },
  {
   "cell_type": "code",
   "execution_count": null,
   "id": "55003566",
   "metadata": {},
   "outputs": [],
   "source": [
    "airports.sort_values('lon', ascending=False).head(5)"
   ]
  },
  {
   "cell_type": "markdown",
   "id": "d11acb86",
   "metadata": {},
   "source": [
    "# case 2\n",
    "### I wanted to look by tz or tzone, but could not find all the cities listed. \n",
    "### missing cities from eastern states!"
   ]
  },
  {
   "cell_type": "code",
   "execution_count": null,
   "id": "4fda6cdc",
   "metadata": {},
   "outputs": [],
   "source": [
    "airports.sort_values('tz', ascending=False).head(5)"
   ]
  },
  {
   "cell_type": "markdown",
   "id": "d945af9e",
   "metadata": {},
   "source": [
    "# case 3"
   ]
  },
  {
   "cell_type": "code",
   "execution_count": 35,
   "id": "756a71af",
   "metadata": {},
   "outputs": [
    {
     "data": {
      "text/plain": [
       "15     -71.196771\n",
       "29     -70.839444\n",
       "50     -72.864694\n",
       "91     -70.060181\n",
       "150    -71.514778\n",
       "          ...    \n",
       "1447   -72.681500\n",
       "1449   -72.593054\n",
       "1451   -73.541493\n",
       "1452   -71.075000\n",
       "1454   -72.925992\n",
       "Name: lon, Length: 74, dtype: float64"
      ]
     },
     "execution_count": 35,
     "metadata": {},
     "output_type": "execute_result"
    }
   ],
   "source": [
    "# Select longitude where the latitude value is greater than or equal to the mean plus one standard deviation\n",
    "airports['lon'][airports['lon'] >= airports['lon'].mean() + airports['lon'].std()]"
   ]
  },
  {
   "cell_type": "markdown",
   "id": "d158ccec",
   "metadata": {},
   "source": [
    "# answer to question# 1"
   ]
  },
  {
   "cell_type": "code",
   "execution_count": null,
   "id": "a6306701",
   "metadata": {},
   "outputs": [],
   "source": [
    "# the answer for question # 1 - BRW\n",
    "# 1. What is the northernmost airport in the United States?\n",
    "sorted_airports = airports.sort_values('lat', ascending=False)\n",
    "northernmost_airport = sorted_airports.iloc[1:2]\n",
    "northernmost_airport"
   ]
  },
  {
   "cell_type": "markdown",
   "id": "b2d0d351",
   "metadata": {},
   "source": [
    "# answer to question# 2"
   ]
  },
  {
   "cell_type": "code",
   "execution_count": null,
   "id": "aabcd1a5",
   "metadata": {},
   "outputs": [],
   "source": [
    "# the answer for question # 2 - EPM\n",
    "# 1. What is the Easternmost airport in the United States?\n",
    "sorted_airports = airports.sort_values('lon', ascending=False)\n",
    "easternmost_airport = sorted_airports.iloc[4:5]\n",
    "easternmost_airport"
   ]
  },
  {
   "cell_type": "code",
   "execution_count": null,
   "id": "bf282c75",
   "metadata": {},
   "outputs": [],
   "source": [
    "# 3. On February 12th, 2013, which New York area airport had the windiest weather?"
   ]
  },
  {
   "cell_type": "code",
   "execution_count": null,
   "id": "388d9ff5",
   "metadata": {},
   "outputs": [],
   "source": [
    "weather.sort_values('wind_speed',ascending=False).head(5)"
   ]
  },
  {
   "cell_type": "code",
   "execution_count": null,
   "id": "ead94c5d",
   "metadata": {},
   "outputs": [],
   "source": [
    "feb12_2013 = weather[(weather['month'] == 2) & (weather['day'] == 12) & (weather['year'] == 2013)]\n",
    "feb12_2013.sort_values('wind_speed', ascending=False).head(5)"
   ]
  },
  {
   "cell_type": "markdown",
   "id": "c4b733df",
   "metadata": {},
   "source": [
    "# answer to question# 3"
   ]
  },
  {
   "cell_type": "code",
   "execution_count": null,
   "id": "67c1c651",
   "metadata": {},
   "outputs": [],
   "source": [
    "# highest wind speed \n",
    "feb12_2013.sort_values('wind_speed', ascending=False).head(1)"
   ]
  },
  {
   "cell_type": "code",
   "execution_count": null,
   "id": "c6d3da48",
   "metadata": {},
   "outputs": [],
   "source": []
  }
 ],
 "metadata": {
  "kernelspec": {
   "display_name": "Python 3 (ipykernel)",
   "language": "python",
   "name": "python3"
  },
  "language_info": {
   "codemirror_mode": {
    "name": "ipython",
    "version": 3
   },
   "file_extension": ".py",
   "mimetype": "text/x-python",
   "name": "python",
   "nbconvert_exporter": "python",
   "pygments_lexer": "ipython3",
   "version": "3.9.13"
  }
 },
 "nbformat": 4,
 "nbformat_minor": 5
}
